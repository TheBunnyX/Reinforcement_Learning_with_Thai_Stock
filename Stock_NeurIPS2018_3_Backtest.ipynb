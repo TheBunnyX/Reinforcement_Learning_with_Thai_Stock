{
  "cells": [
    {
      "cell_type": "markdown",
      "metadata": {
        "id": "v7Cycmf3Zbok"
      },
      "source": [
        "# Stock NeurIPS2018 Part 3. Backtest\n",
        "This series is a reproduction of paper *the process in the paper Practical Deep Reinforcement Learning Approach for Stock Trading*. \n",
        "\n",
        "This is the third and last part of the NeurIPS2018 series, introducing how to use use the agents we trained to do backtest, and compare with baselines such as Mean Variance Optimization and DJIA index.\n",
        "\n",
        "Other demos can be found at the repo of [FinRL-Tutorials]((https://github.com/AI4Finance-Foundation/FinRL-Tutorials))."
      ]
    },
    {
      "cell_type": "markdown",
      "metadata": {
        "id": "1oWbj4HgqHBg"
      },
      "source": [
        "# Part 1. Install Packages"
      ]
    },
    {
      "cell_type": "code",
      "execution_count": 510,
      "metadata": {
        "id": "QJgoEYx3p_NG"
      },
      "outputs": [],
      "source": [
        "## install finrl library\n",
        "#!pip install git+https://github.com/AI4Finance-Foundation/FinRL.git"
      ]
    },
    {
      "cell_type": "code",
      "execution_count": 511,
      "metadata": {
        "id": "mqfBOKz-qJYF"
      },
      "outputs": [],
      "source": [
        "import matplotlib.pyplot as plt\n",
        "import numpy as np\n",
        "import pandas as pd\n",
        "from stable_baselines3 import A2C, DDPG, PPO, SAC, TD3\n",
        "\n",
        "from finrl.agents.stablebaselines3.models import DRLAgent\n",
        "from finrl.config import INDICATORS, TRAINED_MODEL_DIR\n",
        "from finrl.meta.env_stock_trading.env_stocktrading import StockTradingEnv\n",
        "from finrl.meta.preprocessor.yahoodownloader import YahooDownloader\n",
        "\n",
        "%matplotlib inline"
      ]
    },
    {
      "cell_type": "markdown",
      "metadata": {
        "id": "mUF2P4hmqVjh"
      },
      "source": [
        "# Part 2. Backtesting"
      ]
    },
    {
      "cell_type": "markdown",
      "metadata": {
        "id": "BdU6qLsVWDxI"
      },
      "source": [
        "To backtest the agents, upload trade_data.csv in the same directory of this notebook. For Colab users, just upload trade_data.csv to the default directory."
      ]
    },
    {
      "cell_type": "code",
      "execution_count": 512,
      "metadata": {
        "id": "mSjBHn_MZr4U"
      },
      "outputs": [],
      "source": [
        "train = pd.read_csv('train_data.csv')\n",
        "trade = pd.read_csv('trade_data.csv')\n",
        "\n",
        "# If you are not using the data generated from part 1 of this tutorial, make sure \n",
        "# it has the columns and index in the form that could be make into the environment. \n",
        "# Then you can comment and skip the following lines.\n",
        "train = train.set_index(train.columns[0])\n",
        "train.index.names = ['']\n",
        "trade = trade.set_index(trade.columns[0])\n",
        "trade.index.names = ['']"
      ]
    },
    {
      "cell_type": "markdown",
      "metadata": {
        "id": "qu4Ey54b36oL"
      },
      "source": [
        "Then, upload the trained agent to the same directory, and set the corresponding variable to True."
      ]
    },
    {
      "cell_type": "code",
      "execution_count": 513,
      "metadata": {
        "id": "Z_mVZM4IIa55"
      },
      "outputs": [],
      "source": [
        "if_using_a2c = True\n",
        "if_using_ddpg = True\n",
        "if_using_ppo = True\n",
        "if_using_td3 = True\n",
        "if_using_sac = True"
      ]
    },
    {
      "cell_type": "markdown",
      "metadata": {
        "id": "73D4oRqAIkYj"
      },
      "source": [
        "Load the agents"
      ]
    },
    {
      "cell_type": "code",
      "execution_count": 514,
      "metadata": {
        "id": "6CagrX0I36ZN"
      },
      "outputs": [],
      "source": [
        "trained_a2c = A2C.load(TRAINED_MODEL_DIR + \"/agent_a2c\") if if_using_a2c else None\n",
        "trained_ddpg = DDPG.load(TRAINED_MODEL_DIR + \"/agent_ddpg\") if if_using_ddpg else None\n",
        "trained_ppo = PPO.load(TRAINED_MODEL_DIR + \"/agent_ppo\") if if_using_ppo else None\n",
        "trained_td3 = TD3.load(TRAINED_MODEL_DIR + \"/agent_td3\") if if_using_td3 else None\n",
        "trained_sac = SAC.load(TRAINED_MODEL_DIR + \"/agent_sac\") if if_using_sac else None"
      ]
    },
    {
      "cell_type": "markdown",
      "metadata": {
        "id": "U5mmgQF_h1jQ"
      },
      "source": [
        "### Trading (Out-of-sample Performance)\n",
        "\n",
        "We update periodically in order to take full advantage of the data, e.g., retrain quarterly, monthly or weekly. We also tune the parameters along the way, in this notebook we use the in-sample data from 2009-01 to 2020-07 to tune the parameters once, so there is some alpha decay here as the length of trade date extends. \n",
        "\n",
        "Numerous hyperparameters – e.g. the learning rate, the total number of samples to train on – influence the learning process and are usually determined by testing some variations."
      ]
    },
    {
      "cell_type": "code",
      "execution_count": 515,
      "metadata": {
        "colab": {
          "base_uri": "https://localhost:8080/"
        },
        "id": "4H_w3SaBAkKU",
        "outputId": "fdaed3a7-d3a9-4cde-d194-ee4576057175"
      },
      "outputs": [
        {
          "name": "stdout",
          "output_type": "stream",
          "text": [
            "Stock Dimension: 17, State Space: 171\n"
          ]
        }
      ],
      "source": [
        "stock_dimension = len(trade.tic.unique())\n",
        "state_space = 1 + 2 * stock_dimension + len(INDICATORS) * stock_dimension\n",
        "print(f\"Stock Dimension: {stock_dimension}, State Space: {state_space}\")"
      ]
    },
    {
      "cell_type": "code",
      "execution_count": 516,
      "metadata": {
        "id": "nKNmQMqGAknW"
      },
      "outputs": [],
      "source": [
        "buy_cost_list = sell_cost_list = [0.001] * stock_dimension\n",
        "num_stock_shares = [0] * stock_dimension\n",
        "\n",
        "env_kwargs = {\n",
        "    \"hmax\": 100,\n",
        "    \"initial_amount\": 1000000,\n",
        "    \"num_stock_shares\": num_stock_shares,\n",
        "    \"buy_cost_pct\": buy_cost_list,\n",
        "    \"sell_cost_pct\": sell_cost_list,\n",
        "    \"state_space\": state_space,\n",
        "    \"stock_dim\": stock_dimension,\n",
        "    \"tech_indicator_list\": INDICATORS,\n",
        "    \"action_space\": stock_dimension,\n",
        "    \"reward_scaling\": 1e-6\n",
        "}"
      ]
    },
    {
      "cell_type": "code",
      "execution_count": 517,
      "metadata": {
        "id": "cIqoV0GSI52v"
      },
      "outputs": [],
      "source": [
        "e_trade_gym = StockTradingEnv(df = trade, turbulence_threshold = 40,risk_indicator_col='vix', **env_kwargs)\n",
        "# env_trade, obs_trade = e_trade_gym.get_sb_env()"
      ]
    },
    {
      "cell_type": "code",
      "execution_count": 518,
      "metadata": {
        "colab": {
          "base_uri": "https://localhost:8080/"
        },
        "id": "lbFchno5j3xs",
        "outputId": "44fffa47-3b47-4e7b-96c2-0a485e9efead"
      },
      "outputs": [
        {
          "name": "stdout",
          "output_type": "stream",
          "text": [
            "hit end!\n"
          ]
        }
      ],
      "source": [
        "df_account_value_a2c, df_actions_a2c = DRLAgent.DRL_prediction(\n",
        "    model=trained_a2c, \n",
        "    environment = e_trade_gym) if if_using_a2c else (None, None)"
      ]
    },
    {
      "cell_type": "code",
      "execution_count": 519,
      "metadata": {
        "id": "JbYljWGjj3pH"
      },
      "outputs": [
        {
          "name": "stdout",
          "output_type": "stream",
          "text": [
            "hit end!\n"
          ]
        }
      ],
      "source": [
        "df_account_value_ddpg, df_actions_ddpg = DRLAgent.DRL_prediction(\n",
        "    model=trained_ddpg, \n",
        "    environment = e_trade_gym) if if_using_ddpg else (None, None)"
      ]
    },
    {
      "cell_type": "code",
      "execution_count": 520,
      "metadata": {
        "id": "74jNP2DBj3hb"
      },
      "outputs": [
        {
          "name": "stdout",
          "output_type": "stream",
          "text": [
            "hit end!\n"
          ]
        }
      ],
      "source": [
        "df_account_value_ppo, df_actions_ppo = DRLAgent.DRL_prediction(\n",
        "    model=trained_ppo, \n",
        "    environment = e_trade_gym) if if_using_ppo else (None, None)"
      ]
    },
    {
      "cell_type": "code",
      "execution_count": 521,
      "metadata": {
        "id": "S7VyGGJPj3SH"
      },
      "outputs": [
        {
          "name": "stdout",
          "output_type": "stream",
          "text": [
            "hit end!\n"
          ]
        }
      ],
      "source": [
        "df_account_value_td3, df_actions_td3 = DRLAgent.DRL_prediction(\n",
        "    model=trained_td3, \n",
        "    environment = e_trade_gym) if if_using_td3 else (None, None)"
      ]
    },
    {
      "cell_type": "code",
      "execution_count": 522,
      "metadata": {
        "colab": {
          "base_uri": "https://localhost:8080/"
        },
        "id": "eLOnL5eYh1jR",
        "outputId": "70e50e24-aed5-49f9-cdd7-de6b9689d9ce"
      },
      "outputs": [
        {
          "name": "stdout",
          "output_type": "stream",
          "text": [
            "hit end!\n"
          ]
        }
      ],
      "source": [
        "df_account_value_sac, df_actions_sac = DRLAgent.DRL_prediction(\n",
        "    model=trained_sac, \n",
        "    environment = e_trade_gym) if if_using_sac else (None, None)"
      ]
    },
    {
      "cell_type": "markdown",
      "metadata": {
        "id": "GcE-t08w6DaW"
      },
      "source": [
        "# Part 3: Mean Variance Optimization"
      ]
    },
    {
      "cell_type": "markdown",
      "metadata": {
        "id": "17TUs71EWj09"
      },
      "source": [
        "Mean Variance optimization is a very classic strategy in portfolio management. Here, we go through the whole process to do the mean variance optimization and add it as a baseline to compare.\n",
        "\n",
        "First, process dataframe to the form for MVO weight calculation."
      ]
    },
    {
      "cell_type": "code",
      "execution_count": 523,
      "metadata": {
        "id": "wungSNOwPwKR"
      },
      "outputs": [],
      "source": [
        "def process_df_for_mvo(df):\n",
        "  return df.pivot(index=\"date\", columns=\"tic\", values=\"close\")"
      ]
    },
    {
      "cell_type": "markdown",
      "metadata": {
        "id": "SwEwkHJ1d_6u"
      },
      "source": [
        "### Helper functions for mean returns and variance-covariance matrix"
      ]
    },
    {
      "cell_type": "code",
      "execution_count": 524,
      "metadata": {
        "id": "6KvXkpyE8MFq"
      },
      "outputs": [],
      "source": [
        "# Codes in this section partially refer to Dr G A Vijayalakshmi Pai\n",
        "\n",
        "# https://www.kaggle.com/code/vijipai/lesson-5-mean-variance-optimization-of-portfolios/notebook\n",
        "\n",
        "def StockReturnsComputing(StockPrice, Rows, Columns): \n",
        "  import numpy as np \n",
        "  StockReturn = np.zeros([Rows-1, Columns]) \n",
        "  for j in range(Columns):        # j: Assets \n",
        "    for i in range(Rows-1):     # i: Daily Prices \n",
        "      StockReturn[i,j]=((StockPrice[i+1, j]-StockPrice[i,j])/StockPrice[i,j])* 100 \n",
        "      \n",
        "  return StockReturn"
      ]
    },
    {
      "cell_type": "markdown",
      "metadata": {
        "id": "IeVVbuwveJ_5"
      },
      "source": [
        "### Calculate the weights for mean-variance"
      ]
    },
    {
      "cell_type": "code",
      "execution_count": 525,
      "metadata": {
        "colab": {
          "base_uri": "https://localhost:8080/"
        },
        "id": "kE8nruKLQYLO",
        "outputId": "42d07c80-f309-49f8-f2b4-36a51987086f"
      },
      "outputs": [
        {
          "data": {
            "text/plain": [
              "array([[199.575,  71.32 ,   8.07 , ...,  87.331,  40.879,   6.5  ],\n",
              "       [203.341,  71.32 ,   8.296, ...,  88.01 ,  42.027,   6.65 ],\n",
              "       [203.341,  70.574,   8.16 , ...,  87.105,  41.109,   6.5  ],\n",
              "       ...,\n",
              "       [259.   ,  62.25 ,   5.9  , ...,  96.75 ,  53.26 ,  10.3  ],\n",
              "       [259.   ,  62.   ,   5.85 , ...,  96.   ,  51.55 ,  10.3  ],\n",
              "       [259.   ,  62.   ,   6.05 , ...,  96.5  ,  51.5  ,  10.4  ]])"
            ]
          },
          "execution_count": 525,
          "metadata": {},
          "output_type": "execute_result"
        }
      ],
      "source": [
        "StockData = process_df_for_mvo(train)\n",
        "TradeData = process_df_for_mvo(trade)\n",
        "\n",
        "TradeData.to_numpy()"
      ]
    },
    {
      "cell_type": "code",
      "execution_count": 526,
      "metadata": {
        "colab": {
          "base_uri": "https://localhost:8080/"
        },
        "id": "u6_O6vrn_uD4",
        "outputId": "0c2f8bf7-07e7-4fe5-c409-93312b95a8dd"
      },
      "outputs": [
        {
          "name": "stdout",
          "output_type": "stream",
          "text": [
            "Mean returns of assets in k-portfolio 1\n",
            " [0.067 0.132 0.029 0.086 0.091 0.087 0.039 0.058 0.074 0.066 0.05  0.025\n",
            " 0.058 0.108 0.114 0.058 0.099]\n",
            "Variance-Covariance matrix of returns\n",
            " [[2.735 0.966 0.779 0.722 0.649 0.809 0.885 0.974 0.975 0.453 0.936 0.427\n",
            "  0.783 0.881 0.697 0.901 1.82 ]\n",
            " [0.966 4.108 1.266 1.366 1.051 1.231 1.623 1.624 1.691 0.825 1.496 0.712\n",
            "  1.229 1.545 1.233 1.701 1.704]\n",
            " [0.779 1.266 5.532 1.184 0.839 1.27  2.259 1.594 1.512 0.769 2.077 0.673\n",
            "  1.345 1.445 1.132 2.302 1.584]\n",
            " [0.722 1.366 1.184 4.498 0.728 1.014 1.383 1.3   1.382 0.65  1.192 0.67\n",
            "  0.997 1.278 1.007 1.406 1.648]\n",
            " [0.649 1.051 0.839 0.728 2.745 1.16  1.056 1.014 1.102 0.556 0.984 0.439\n",
            "  0.791 1.038 0.734 1.079 1.103]\n",
            " [0.809 1.231 1.27  1.014 1.16  3.788 1.436 1.192 1.193 0.648 1.235 0.563\n",
            "  1.022 1.223 0.897 1.379 1.578]\n",
            " [0.885 1.623 2.259 1.383 1.056 1.436 4.863 1.771 1.643 0.897 2.164 0.78\n",
            "  1.482 1.654 1.298 3.053 1.868]\n",
            " [0.974 1.624 1.594 1.3   1.014 1.192 1.771 3.763 1.747 0.843 1.656 0.588\n",
            "  1.375 1.621 1.476 1.877 1.551]\n",
            " [0.975 1.691 1.512 1.382 1.102 1.193 1.643 1.747 4.146 0.783 1.507 0.737\n",
            "  1.335 1.867 1.276 1.659 1.665]\n",
            " [0.453 0.825 0.769 0.65  0.556 0.648 0.897 0.843 0.783 2.788 0.718 0.379\n",
            "  0.546 0.814 0.591 0.841 0.799]\n",
            " [0.936 1.496 2.077 1.192 0.984 1.235 2.164 1.656 1.507 0.718 3.358 0.675\n",
            "  1.433 1.303 1.085 2.573 1.487]\n",
            " [0.427 0.712 0.673 0.67  0.439 0.563 0.78  0.588 0.737 0.379 0.675 1.726\n",
            "  0.675 0.665 0.47  0.732 0.683]\n",
            " [0.783 1.229 1.345 0.997 0.791 1.022 1.482 1.375 1.335 0.546 1.433 0.675\n",
            "  2.404 1.095 0.975 1.548 1.198]\n",
            " [0.881 1.545 1.445 1.278 1.038 1.223 1.654 1.621 1.867 0.814 1.303 0.665\n",
            "  1.095 5.239 1.167 1.532 1.779]\n",
            " [0.697 1.233 1.132 1.007 0.734 0.897 1.298 1.476 1.276 0.591 1.085 0.47\n",
            "  0.975 1.167 3.163 1.299 1.129]\n",
            " [0.901 1.701 2.302 1.406 1.079 1.379 3.053 1.877 1.659 0.841 2.573 0.732\n",
            "  1.548 1.532 1.299 5.053 1.645]\n",
            " [1.82  1.704 1.584 1.648 1.103 1.578 1.868 1.551 1.665 0.799 1.487 0.683\n",
            "  1.198 1.779 1.129 1.645 9.232]]\n"
          ]
        }
      ],
      "source": [
        "#compute asset returns\n",
        "arStockPrices = np.asarray(StockData)\n",
        "[Rows, Cols]=arStockPrices.shape\n",
        "arReturns = StockReturnsComputing(arStockPrices, Rows, Cols)\n",
        "\n",
        "#compute mean returns and variance covariance matrix of returns\n",
        "meanReturns = np.mean(arReturns, axis = 0)\n",
        "covReturns = np.cov(arReturns, rowvar=False)\n",
        " \n",
        "#set precision for printing results\n",
        "np.set_printoptions(precision=3, suppress = True)\n",
        "\n",
        "#display mean returns and variance-covariance matrix of returns\n",
        "print('Mean returns of assets in k-portfolio 1\\n', meanReturns)\n",
        "print('Variance-Covariance matrix of returns\\n', covReturns)"
      ]
    },
    {
      "cell_type": "markdown",
      "metadata": {
        "id": "zC7r-cI8RR1X"
      },
      "source": [
        "### Use PyPortfolioOpt"
      ]
    },
    {
      "cell_type": "code",
      "execution_count": 527,
      "metadata": {
        "colab": {
          "base_uri": "https://localhost:8080/"
        },
        "id": "b1btTONEdCU4",
        "outputId": "75096462-7dfb-4ce6-c6f4-4671f11e79fc"
      },
      "outputs": [
        {
          "data": {
            "text/plain": [
              "array([ 22560., 262990.,      0.,  32580., 197130.,  39190.,      0.,\n",
              "            0.,      0.,  60740.,      0.,      0.,      0.,  77060.,\n",
              "       303500.,      0.,   4240.])"
            ]
          },
          "execution_count": 527,
          "metadata": {},
          "output_type": "execute_result"
        }
      ],
      "source": [
        "from pypfopt.efficient_frontier import EfficientFrontier\n",
        "\n",
        "ef_mean = EfficientFrontier(meanReturns, covReturns, weight_bounds=(0, 0.5))\n",
        "raw_weights_mean = ef_mean.max_sharpe()\n",
        "cleaned_weights_mean = ef_mean.clean_weights()\n",
        "mvo_weights = np.array([1000000 * cleaned_weights_mean[i] for i in range(len(cleaned_weights_mean))])\n",
        "mvo_weights"
      ]
    },
    {
      "cell_type": "code",
      "execution_count": 528,
      "metadata": {
        "colab": {
          "base_uri": "https://localhost:8080/"
        },
        "id": "F38NJRJJgOmj",
        "outputId": "f575651b-1e9b-4015-ae71-c9fc2c3a3dae"
      },
      "outputs": [
        {
          "data": {
            "text/plain": [
              "array([  111.984,  3674.687,     0.   ,  4464.739,  3209.173,  2025.805,\n",
              "           0.   ,     0.   ,     0.   ,  3720.294,     0.   ,     0.   ,\n",
              "           0.   , 46518.74 ,  3457.365,     0.   ,   647.328])"
            ]
          },
          "execution_count": 528,
          "metadata": {},
          "output_type": "execute_result"
        }
      ],
      "source": [
        "LastPrice = np.array([1/p for p in StockData.tail(1).to_numpy()[0]])\n",
        "Initial_Portfolio = np.multiply(mvo_weights, LastPrice)\n",
        "Initial_Portfolio"
      ]
    },
    {
      "cell_type": "code",
      "execution_count": 529,
      "metadata": {
        "id": "ZAd1iXqZhQ6X"
      },
      "outputs": [
        {
          "data": {
            "text/html": [
              "<div>\n",
              "<style scoped>\n",
              "    .dataframe tbody tr th:only-of-type {\n",
              "        vertical-align: middle;\n",
              "    }\n",
              "\n",
              "    .dataframe tbody tr th {\n",
              "        vertical-align: top;\n",
              "    }\n",
              "\n",
              "    .dataframe thead th {\n",
              "        text-align: right;\n",
              "    }\n",
              "</style>\n",
              "<table border=\"1\" class=\"dataframe\">\n",
              "  <thead>\n",
              "    <tr style=\"text-align: right;\">\n",
              "      <th></th>\n",
              "      <th>Mean Var</th>\n",
              "    </tr>\n",
              "    <tr>\n",
              "      <th>date</th>\n",
              "      <th></th>\n",
              "    </tr>\n",
              "  </thead>\n",
              "  <tbody>\n",
              "    <tr>\n",
              "      <th>2023-07-03</th>\n",
              "      <td>9.994281e+05</td>\n",
              "    </tr>\n",
              "    <tr>\n",
              "      <th>2023-07-05</th>\n",
              "      <td>1.004043e+06</td>\n",
              "    </tr>\n",
              "    <tr>\n",
              "      <th>2023-07-06</th>\n",
              "      <td>9.907368e+05</td>\n",
              "    </tr>\n",
              "    <tr>\n",
              "      <th>2023-07-07</th>\n",
              "      <td>9.903806e+05</td>\n",
              "    </tr>\n",
              "    <tr>\n",
              "      <th>2023-07-10</th>\n",
              "      <td>9.892462e+05</td>\n",
              "    </tr>\n",
              "    <tr>\n",
              "      <th>...</th>\n",
              "      <td>...</td>\n",
              "    </tr>\n",
              "    <tr>\n",
              "      <th>2024-09-06</th>\n",
              "      <td>1.035455e+06</td>\n",
              "    </tr>\n",
              "    <tr>\n",
              "      <th>2024-09-09</th>\n",
              "      <td>1.035455e+06</td>\n",
              "    </tr>\n",
              "    <tr>\n",
              "      <th>2024-09-10</th>\n",
              "      <td>1.034987e+06</td>\n",
              "    </tr>\n",
              "    <tr>\n",
              "      <th>2024-09-11</th>\n",
              "      <td>1.025681e+06</td>\n",
              "    </tr>\n",
              "    <tr>\n",
              "      <th>2024-09-12</th>\n",
              "      <td>1.028317e+06</td>\n",
              "    </tr>\n",
              "  </tbody>\n",
              "</table>\n",
              "<p>281 rows × 1 columns</p>\n",
              "</div>"
            ],
            "text/plain": [
              "                Mean Var\n",
              "date                    \n",
              "2023-07-03  9.994281e+05\n",
              "2023-07-05  1.004043e+06\n",
              "2023-07-06  9.907368e+05\n",
              "2023-07-07  9.903806e+05\n",
              "2023-07-10  9.892462e+05\n",
              "...                  ...\n",
              "2024-09-06  1.035455e+06\n",
              "2024-09-09  1.035455e+06\n",
              "2024-09-10  1.034987e+06\n",
              "2024-09-11  1.025681e+06\n",
              "2024-09-12  1.028317e+06\n",
              "\n",
              "[281 rows x 1 columns]"
            ]
          },
          "execution_count": 529,
          "metadata": {},
          "output_type": "execute_result"
        }
      ],
      "source": [
        "Portfolio_Assets = TradeData @ Initial_Portfolio\n",
        "MVO_result = pd.DataFrame(Portfolio_Assets, columns=[\"Mean Var\"])\n",
        "MVO_result"
      ]
    },
    {
      "cell_type": "markdown",
      "metadata": {
        "id": "I5sgGe7g1HsL"
      },
      "source": [
        "# Part 4: DJIA index"
      ]
    },
    {
      "cell_type": "markdown",
      "metadata": {
        "id": "sVe_ufxTY2CW"
      },
      "source": [
        "Add DJIA index as a baseline to compare with."
      ]
    },
    {
      "cell_type": "code",
      "execution_count": 530,
      "metadata": {
        "id": "sACPzsI-6k8q"
      },
      "outputs": [],
      "source": [
        "TRAIN_START_DATE = '2009-01-01'\n",
        "TRAIN_END_DATE = '2023-07-01'\n",
        "TRADE_START_DATE = '2023-07-01'\n",
        "TRADE_END_DATE = '2024-09-14'"
      ]
    },
    {
      "cell_type": "code",
      "execution_count": 531,
      "metadata": {
        "colab": {
          "base_uri": "https://localhost:8080/"
        },
        "id": "TuszW-OB1K0m",
        "outputId": "b89a8350-de58-4fea-8e4b-856efa872712"
      },
      "outputs": [
        {
          "name": "stderr",
          "output_type": "stream",
          "text": [
            "[*********************100%***********************]  1 of 1 completed"
          ]
        },
        {
          "name": "stdout",
          "output_type": "stream",
          "text": [
            "Shape of DataFrame:  (303, 8)\n"
          ]
        },
        {
          "name": "stderr",
          "output_type": "stream",
          "text": [
            "\n"
          ]
        }
      ],
      "source": [
        "df_dji = YahooDownloader(\n",
        "    start_date=TRADE_START_DATE, end_date=TRADE_END_DATE, ticker_list=[\"spy\"]\n",
        ").fetch_data()"
      ]
    },
    {
      "cell_type": "code",
      "execution_count": 532,
      "metadata": {
        "id": "Q3RXz72U1VbV"
      },
      "outputs": [],
      "source": [
        "df_dji = df_dji[[\"date\", \"close\"]]\n",
        "fst_day = df_dji[\"close\"][0]\n",
        "dji = pd.merge(\n",
        "    df_dji[\"date\"],\n",
        "    df_dji[\"close\"].div(fst_day).mul(1000000),\n",
        "    how=\"outer\",\n",
        "    left_index=True,\n",
        "    right_index=True,\n",
        ").set_index(\"date\")"
      ]
    },
    {
      "cell_type": "markdown",
      "metadata": {
        "id": "W6vvNSC6h1jZ"
      },
      "source": [
        "<a id='4'></a>\n",
        "# Part 5: Backtesting Results\n",
        "Backtesting plays a key role in evaluating the performance of a trading strategy. Automated backtesting tool is preferred because it reduces the human error. We usually use the Quantopian pyfolio package to backtest our trading strategies. It is easy to use and consists of various individual plots that provide a comprehensive image of the performance of a trading strategy."
      ]
    },
    {
      "cell_type": "code",
      "execution_count": 533,
      "metadata": {
        "id": "KeDeGAc9VrEg"
      },
      "outputs": [],
      "source": [
        "df_result_a2c = (\n",
        "    df_account_value_a2c.set_index(df_account_value_a2c.columns[0])\n",
        "    if if_using_a2c\n",
        "    else None\n",
        ")\n",
        "df_result_ddpg = (\n",
        "    df_account_value_ddpg.set_index(df_account_value_ddpg.columns[0])\n",
        "    if if_using_ddpg\n",
        "    else None\n",
        ")\n",
        "df_result_ppo = (\n",
        "    df_account_value_ppo.set_index(df_account_value_ppo.columns[0])\n",
        "    if if_using_ppo\n",
        "    else None\n",
        ")\n",
        "df_result_td3 = (\n",
        "    df_account_value_td3.set_index(df_account_value_td3.columns[0])\n",
        "    if if_using_td3\n",
        "    else None\n",
        ")\n",
        "df_result_sac = (\n",
        "    df_account_value_sac.set_index(df_account_value_sac.columns[0])\n",
        "    if if_using_sac\n",
        "    else None\n",
        ")\n",
        "\n",
        "result = pd.DataFrame(\n",
        "    {\n",
        "        \"a2c\": df_result_a2c[\"account_value\"] if if_using_a2c else None,\n",
        "        \"ddpg\": df_result_ddpg[\"account_value\"] if if_using_ddpg else None,\n",
        "        \"ppo\": df_result_ppo[\"account_value\"] if if_using_ppo else None,\n",
        "        \"td3\": df_result_td3[\"account_value\"] if if_using_td3 else None,\n",
        "        \"sac\": df_result_sac[\"account_value\"] if if_using_sac else None,\n",
        "        \"mvo\": MVO_result[\"Mean Var\"],\n",
        "        \"dji\": dji[\"close\"],\n",
        "    }\n",
        ")"
      ]
    },
    {
      "cell_type": "code",
      "execution_count": 534,
      "metadata": {
        "colab": {
          "base_uri": "https://localhost:8080/",
          "height": 455
        },
        "id": "l4FZxyDt3XaE",
        "outputId": "2e739637-bf88-4698-9cf1-9a526452e465"
      },
      "outputs": [
        {
          "data": {
            "text/html": [
              "<div>\n",
              "<style scoped>\n",
              "    .dataframe tbody tr th:only-of-type {\n",
              "        vertical-align: middle;\n",
              "    }\n",
              "\n",
              "    .dataframe tbody tr th {\n",
              "        vertical-align: top;\n",
              "    }\n",
              "\n",
              "    .dataframe thead th {\n",
              "        text-align: right;\n",
              "    }\n",
              "</style>\n",
              "<table border=\"1\" class=\"dataframe\">\n",
              "  <thead>\n",
              "    <tr style=\"text-align: right;\">\n",
              "      <th></th>\n",
              "      <th>a2c</th>\n",
              "      <th>ddpg</th>\n",
              "      <th>ppo</th>\n",
              "      <th>td3</th>\n",
              "      <th>sac</th>\n",
              "      <th>mvo</th>\n",
              "      <th>dji</th>\n",
              "    </tr>\n",
              "    <tr>\n",
              "      <th>date</th>\n",
              "      <th></th>\n",
              "      <th></th>\n",
              "      <th></th>\n",
              "      <th></th>\n",
              "      <th></th>\n",
              "      <th></th>\n",
              "      <th></th>\n",
              "    </tr>\n",
              "  </thead>\n",
              "  <tbody>\n",
              "    <tr>\n",
              "      <th>2023-07-03</th>\n",
              "      <td>1.000000e+06</td>\n",
              "      <td>1.000000e+06</td>\n",
              "      <td>1.000000e+06</td>\n",
              "      <td>1.000000e+06</td>\n",
              "      <td>1.000000e+06</td>\n",
              "      <td>9.994281e+05</td>\n",
              "      <td>1.000000e+06</td>\n",
              "    </tr>\n",
              "    <tr>\n",
              "      <th>2023-07-05</th>\n",
              "      <td>1.000112e+06</td>\n",
              "      <td>1.000188e+06</td>\n",
              "      <td>1.000050e+06</td>\n",
              "      <td>1.000483e+06</td>\n",
              "      <td>1.000445e+06</td>\n",
              "      <td>1.004043e+06</td>\n",
              "      <td>9.985129e+05</td>\n",
              "    </tr>\n",
              "    <tr>\n",
              "      <th>2023-07-06</th>\n",
              "      <td>9.997786e+05</td>\n",
              "      <td>9.994057e+05</td>\n",
              "      <td>1.000006e+06</td>\n",
              "      <td>1.000072e+06</td>\n",
              "      <td>1.000117e+06</td>\n",
              "      <td>9.907368e+05</td>\n",
              "      <td>9.906939e+05</td>\n",
              "    </tr>\n",
              "    <tr>\n",
              "      <th>2023-07-07</th>\n",
              "      <td>9.996840e+05</td>\n",
              "      <td>9.993995e+05</td>\n",
              "      <td>9.999225e+05</td>\n",
              "      <td>9.991270e+05</td>\n",
              "      <td>9.995424e+05</td>\n",
              "      <td>9.903806e+05</td>\n",
              "      <td>9.881927e+05</td>\n",
              "    </tr>\n",
              "    <tr>\n",
              "      <th>2023-07-10</th>\n",
              "      <td>9.996287e+05</td>\n",
              "      <td>9.995703e+05</td>\n",
              "      <td>9.999162e+05</td>\n",
              "      <td>9.994211e+05</td>\n",
              "      <td>9.993452e+05</td>\n",
              "      <td>9.892462e+05</td>\n",
              "      <td>9.906939e+05</td>\n",
              "    </tr>\n",
              "    <tr>\n",
              "      <th>...</th>\n",
              "      <td>...</td>\n",
              "      <td>...</td>\n",
              "      <td>...</td>\n",
              "      <td>...</td>\n",
              "      <td>...</td>\n",
              "      <td>...</td>\n",
              "      <td>...</td>\n",
              "    </tr>\n",
              "    <tr>\n",
              "      <th>2024-09-09</th>\n",
              "      <td>9.821073e+05</td>\n",
              "      <td>1.064519e+06</td>\n",
              "      <td>1.206001e+06</td>\n",
              "      <td>1.192047e+06</td>\n",
              "      <td>1.093743e+06</td>\n",
              "      <td>1.035455e+06</td>\n",
              "      <td>1.248457e+06</td>\n",
              "    </tr>\n",
              "    <tr>\n",
              "      <th>2024-09-10</th>\n",
              "      <td>9.635357e+05</td>\n",
              "      <td>1.063240e+06</td>\n",
              "      <td>1.180664e+06</td>\n",
              "      <td>1.160280e+06</td>\n",
              "      <td>1.119808e+06</td>\n",
              "      <td>1.034987e+06</td>\n",
              "      <td>1.253895e+06</td>\n",
              "    </tr>\n",
              "    <tr>\n",
              "      <th>2024-09-11</th>\n",
              "      <td>9.565932e+05</td>\n",
              "      <td>1.048910e+06</td>\n",
              "      <td>1.179075e+06</td>\n",
              "      <td>1.154427e+06</td>\n",
              "      <td>1.115231e+06</td>\n",
              "      <td>1.025681e+06</td>\n",
              "      <td>1.266759e+06</td>\n",
              "    </tr>\n",
              "    <tr>\n",
              "      <th>2024-09-12</th>\n",
              "      <td>9.551131e+05</td>\n",
              "      <td>1.049487e+06</td>\n",
              "      <td>1.180881e+06</td>\n",
              "      <td>1.155605e+06</td>\n",
              "      <td>1.124711e+06</td>\n",
              "      <td>1.028317e+06</td>\n",
              "      <td>1.277429e+06</td>\n",
              "    </tr>\n",
              "    <tr>\n",
              "      <th>2024-09-13</th>\n",
              "      <td>NaN</td>\n",
              "      <td>NaN</td>\n",
              "      <td>NaN</td>\n",
              "      <td>NaN</td>\n",
              "      <td>NaN</td>\n",
              "      <td>NaN</td>\n",
              "      <td>1.284101e+06</td>\n",
              "    </tr>\n",
              "  </tbody>\n",
              "</table>\n",
              "<p>303 rows × 7 columns</p>\n",
              "</div>"
            ],
            "text/plain": [
              "                     a2c          ddpg           ppo           td3  \\\n",
              "date                                                                 \n",
              "2023-07-03  1.000000e+06  1.000000e+06  1.000000e+06  1.000000e+06   \n",
              "2023-07-05  1.000112e+06  1.000188e+06  1.000050e+06  1.000483e+06   \n",
              "2023-07-06  9.997786e+05  9.994057e+05  1.000006e+06  1.000072e+06   \n",
              "2023-07-07  9.996840e+05  9.993995e+05  9.999225e+05  9.991270e+05   \n",
              "2023-07-10  9.996287e+05  9.995703e+05  9.999162e+05  9.994211e+05   \n",
              "...                  ...           ...           ...           ...   \n",
              "2024-09-09  9.821073e+05  1.064519e+06  1.206001e+06  1.192047e+06   \n",
              "2024-09-10  9.635357e+05  1.063240e+06  1.180664e+06  1.160280e+06   \n",
              "2024-09-11  9.565932e+05  1.048910e+06  1.179075e+06  1.154427e+06   \n",
              "2024-09-12  9.551131e+05  1.049487e+06  1.180881e+06  1.155605e+06   \n",
              "2024-09-13           NaN           NaN           NaN           NaN   \n",
              "\n",
              "                     sac           mvo           dji  \n",
              "date                                                  \n",
              "2023-07-03  1.000000e+06  9.994281e+05  1.000000e+06  \n",
              "2023-07-05  1.000445e+06  1.004043e+06  9.985129e+05  \n",
              "2023-07-06  1.000117e+06  9.907368e+05  9.906939e+05  \n",
              "2023-07-07  9.995424e+05  9.903806e+05  9.881927e+05  \n",
              "2023-07-10  9.993452e+05  9.892462e+05  9.906939e+05  \n",
              "...                  ...           ...           ...  \n",
              "2024-09-09  1.093743e+06  1.035455e+06  1.248457e+06  \n",
              "2024-09-10  1.119808e+06  1.034987e+06  1.253895e+06  \n",
              "2024-09-11  1.115231e+06  1.025681e+06  1.266759e+06  \n",
              "2024-09-12  1.124711e+06  1.028317e+06  1.277429e+06  \n",
              "2024-09-13           NaN           NaN  1.284101e+06  \n",
              "\n",
              "[303 rows x 7 columns]"
            ]
          },
          "execution_count": 534,
          "metadata": {},
          "output_type": "execute_result"
        }
      ],
      "source": [
        "result"
      ]
    },
    {
      "cell_type": "markdown",
      "metadata": {
        "id": "QQuc5hI9Yklt"
      },
      "source": [
        "Now, everything is ready, we can plot the backtest result."
      ]
    },
    {
      "cell_type": "code",
      "execution_count": 535,
      "metadata": {
        "colab": {
          "base_uri": "https://localhost:8080/",
          "height": 381
        },
        "id": "6xRfrqK4RVfq",
        "outputId": "469c9729-fd57-417c-9b13-2243426923e2"
      },
      "outputs": [
        {
          "data": {
            "text/plain": [
              "<Axes: xlabel='date'>"
            ]
          },
          "execution_count": 535,
          "metadata": {},
          "output_type": "execute_result"
        },
        {
          "data": {
            "text/plain": [
              "<Figure size 1500x500 with 0 Axes>"
            ]
          },
          "metadata": {},
          "output_type": "display_data"
        },
        {
          "data": {
            "image/png": "[encoded data removed]",
            "text/plain": [
              "<Figure size 1500x500 with 1 Axes>"
            ]
          },
          "metadata": {},
          "output_type": "display_data"
        }
      ],
      "source": [
        "plt.rcParams[\"figure.figsize\"] = (15,5)\n",
        "plt.figure()\n",
        "result.plot()"
      ]
    }
  ],
  "metadata": {
    "colab": {
      "collapsed_sections": [
        "GfZ5vY5wRjkJ"
      ],
      "provenance": []
    },
    "kernelspec": {
      "display_name": "Python 3",
      "name": "python3"
    },
    "language_info": {
      "codemirror_mode": {
        "name": "ipython",
        "version": 3
      },
      "file_extension": ".py",
      "mimetype": "text/x-python",
      "name": "python",
      "nbconvert_exporter": "python",
      "pygments_lexer": "ipython3",
      "version": "3.11.9"
    }
  },
  "nbformat": 4,
  "nbformat_minor": 0
}
